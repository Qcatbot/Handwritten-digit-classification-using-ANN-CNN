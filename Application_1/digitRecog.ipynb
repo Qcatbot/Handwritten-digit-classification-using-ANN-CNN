{
  "nbformat": 4,
  "nbformat_minor": 0,
  "metadata": {
    "colab": {
      "name": "digitRecog.ipynb",
      "provenance": []
    },
    "kernelspec": {
      "name": "python3",
      "display_name": "Python 3"
    },
    "accelerator": "GPU"
  },
  "cells": [
    {
      "cell_type": "code",
      "metadata": {
        "id": "oxTOsBBKs-Lf",
        "colab": {
          "base_uri": "https://localhost:8080/"
        },
        "outputId": "b7ea542d-de1c-4f72-8581-8c0120a6b8f5"
      },
      "source": [
        "from google.colab import drive\n",
        "drive.mount(\"/content/drive/\")"
      ],
      "execution_count": null,
      "outputs": [
        {
          "output_type": "stream",
          "text": [
            "Drive already mounted at /content/drive/; to attempt to forcibly remount, call drive.mount(\"/content/drive/\", force_remount=True).\n"
          ],
          "name": "stdout"
        }
      ]
    },
    {
      "cell_type": "code",
      "metadata": {
        "id": "-be7A-NVtEeF",
        "colab": {
          "base_uri": "https://localhost:8080/"
        },
        "outputId": "72775892-4fc8-497a-f414-6d65ce351962"
      },
      "source": [
        "import os\n",
        "os.getcwd()\n",
        "!mkdir MyDrive   # make a directory called MyDrive, otherwise sometimes \"My Drive\" causes problem!!"
      ],
      "execution_count": null,
      "outputs": [
        {
          "output_type": "stream",
          "text": [
            "mkdir: cannot create directory ‘MyDrive’: File exists\n"
          ],
          "name": "stdout"
        }
      ]
    },
    {
      "cell_type": "code",
      "metadata": {
        "id": "uyl_U6dUtEgV"
      },
      "source": [
        "!mount --bind /content/drive/My\\ Drive /content/MyDrive"
      ],
      "execution_count": null,
      "outputs": []
    },
    {
      "cell_type": "code",
      "metadata": {
        "id": "FglhfL3stEk8"
      },
      "source": [
        "os.chdir(\"/content/MyDrive/AI_VAR/LAB2/\")"
      ],
      "execution_count": null,
      "outputs": []
    },
    {
      "cell_type": "code",
      "metadata": {
        "colab": {
          "base_uri": "https://localhost:8080/"
        },
        "id": "sQR8rCXmti8R",
        "outputId": "66351774-ecb7-412b-c1c3-7101260fae1d"
      },
      "source": [
        "!pwd"
      ],
      "execution_count": 12,
      "outputs": [
        {
          "output_type": "stream",
          "text": [
            "/content/MyDrive/AI_VAR/LAB2\n"
          ],
          "name": "stdout"
        }
      ]
    },
    {
      "cell_type": "code",
      "metadata": {
        "id": "v1uF_ikTtEnX",
        "colab": {
          "base_uri": "https://localhost:8080/"
        },
        "outputId": "a1a4da4c-ecd5-47dc-8c89-39400e169bf5"
      },
      "source": [
        "pip install keras"
      ],
      "execution_count": null,
      "outputs": [
        {
          "output_type": "stream",
          "text": [
            "Requirement already satisfied: keras in /usr/local/lib/python3.6/dist-packages (2.4.3)\n",
            "Requirement already satisfied: scipy>=0.14 in /usr/local/lib/python3.6/dist-packages (from keras) (1.4.1)\n",
            "Requirement already satisfied: numpy>=1.9.1 in /usr/local/lib/python3.6/dist-packages (from keras) (1.18.5)\n",
            "Requirement already satisfied: h5py in /usr/local/lib/python3.6/dist-packages (from keras) (2.10.0)\n",
            "Requirement already satisfied: pyyaml in /usr/local/lib/python3.6/dist-packages (from keras) (3.13)\n",
            "Requirement already satisfied: six in /usr/local/lib/python3.6/dist-packages (from h5py->keras) (1.15.0)\n"
          ],
          "name": "stdout"
        }
      ]
    },
    {
      "cell_type": "code",
      "metadata": {
        "id": "pexZVWOYtEsZ"
      },
      "source": [
        "from keras.datasets import mnist\n",
        "from keras.models import Sequential\n",
        "from keras.layers import Dense\n",
        "from keras.utils import np_utils\n",
        "from keras.layers import Dropout\n",
        "from keras.layers import Flatten\n",
        "from keras.layers.convolutional import Conv2D\n",
        "from keras.layers.convolutional import MaxPooling2D\n",
        "import timeit\n",
        "import sklearn.metrics as metrics\n",
        "import matplotlib\n",
        "import matplotlib.pyplot as plt\n",
        "from keras import callbacks "
      ],
      "execution_count": null,
      "outputs": []
    },
    {
      "cell_type": "code",
      "metadata": {
        "id": "ih94GfOB4w5B"
      },
      "source": [
        "(X_train, Y_train), (X_test, Y_test) = mnist.load_data()"
      ],
      "execution_count": null,
      "outputs": []
    },
    {
      "cell_type": "code",
      "metadata": {
        "id": "tK3_G5387OmO"
      },
      "source": [
        "def baseline_model(num_pixels, num_classes):\n",
        "\n",
        "    #Application 1 - Step 5 - Initialize the sequential model\n",
        "    model = Sequential()\n",
        "\n",
        "    #TODO - Application 1 - Step 5 - build a standard feed-forward network with one dense hidden layer(with 8 neurons) and one dense output layer\n",
        "    model.add(Dense(8, input_dim=num_pixels, kernel_initializer='normal', \n",
        "    activation='relu')) \n",
        "    model.add(Dense(num_classes, kernel_initializer='normal', activation='softmax')) \n",
        "\n",
        "    #TODO - Application 1 - Step 6 - Compile the model\n",
        "    model.compile(loss='categorical_crossentropy', optimizer='adam', metrics=['mse']) \n",
        "\n",
        "    return model"
      ],
      "execution_count": null,
      "outputs": []
    },
    {
      "cell_type": "code",
      "metadata": {
        "id": "-pDJ1mHgzVLS"
      },
      "source": [
        "def trainAndPredictMLP(X_train, Y_train, X_test, Y_test):\n",
        "\n",
        "    #TODO - Application 1 - Step 2 - Transform the images to 1D vectors of floats (28x28 pixels  to  784 elements)\n",
        "    num_pixels = X_train.shape[1] * X_train.shape[2] \n",
        "    X_train = X_train.reshape((X_train.shape[0], num_pixels)).astype('float32') \n",
        "    X_test = X_test.reshape((X_test.shape[0], num_pixels)).astype('float32')\n",
        "\n",
        "    #TODO - Application 1 - Step 3 - Normalize the input values\n",
        "    X_train = X_train / 255 \n",
        "    X_test = X_test / 255 \n",
        "\n",
        "    #TODO - Application 1 - Step 4 - Transform the classes labels into a binary matrix\n",
        "    Y_train = np_utils.to_categorical(Y_train) \n",
        "    Y_test = np_utils.to_categorical(Y_test) \n",
        "    num_classes = Y_test.shape[1]\n",
        "\n",
        "    #Application 1 - Step 5 - Call the baseline_model function\n",
        "    model = baseline_model(num_pixels, num_classes)\n",
        "\n",
        "    # call early stopping\n",
        "    earlystopping = callbacks.EarlyStopping(monitor =\"val_loss\",  \n",
        "                                        mode =\"min\", patience = 5,  \n",
        "                                        restore_best_weights = True) \n",
        "\n",
        "    start = timeit.timeit()\n",
        "    #TODO - Application 1 - Step 7 - Train the model\n",
        "    history = model.fit(X_train, Y_train, validation_data=(X_test, Y_test), epochs=10, batch_size=512, verbose=2, callbacks =[earlystopping]) \n",
        "    end = timeit.timeit()\n",
        "    \n",
        "\n",
        "    #model save\n",
        "    model.save_weights('my_model_weights.h5')\n",
        "\n",
        "    # plot metrics\n",
        "    plt.plot(history.history['mse'])\n",
        "    plt.show()\n",
        "\n",
        "    #TODO - Application 1 - Step 8 - System evaluation - compute and display the prediction error\n",
        "    scores = model.evaluate(X_test, Y_test, verbose=0) \n",
        "    print(\"Baseline Error: {:.2f}\".format(100-scores[1]*100)) \n",
        "    print(\"Covergence time: \", round(end-start, 5))"
      ],
      "execution_count": null,
      "outputs": []
    },
    {
      "cell_type": "code",
      "metadata": {
        "id": "yFCLHXWkz7sK"
      },
      "source": [
        "def main():\n",
        "  trainAndPredictMLP(X_train, Y_train, X_test, Y_test)\n",
        "\n",
        "  return"
      ],
      "execution_count": null,
      "outputs": []
    },
    {
      "cell_type": "code",
      "metadata": {
        "id": "r9RniaJJz8mH",
        "colab": {
          "base_uri": "https://localhost:8080/",
          "height": 647
        },
        "outputId": "ed0371ff-caee-48ae-87e3-e1541f95b516"
      },
      "source": [
        "if __name__ == '__main__':\n",
        "    main()"
      ],
      "execution_count": null,
      "outputs": [
        {
          "output_type": "stream",
          "text": [
            "Epoch 1/10\n",
            "118/118 - 0s - loss: 1.7276 - mse: 0.0731 - val_loss: 1.0288 - val_mse: 0.0475\n",
            "Epoch 2/10\n",
            "118/118 - 0s - loss: 0.7443 - mse: 0.0340 - val_loss: 0.5387 - val_mse: 0.0239\n",
            "Epoch 3/10\n",
            "118/118 - 0s - loss: 0.4854 - mse: 0.0217 - val_loss: 0.4163 - val_mse: 0.0182\n",
            "Epoch 4/10\n",
            "118/118 - 0s - loss: 0.4046 - mse: 0.0179 - val_loss: 0.3668 - val_mse: 0.0160\n",
            "Epoch 5/10\n",
            "118/118 - 0s - loss: 0.3670 - mse: 0.0161 - val_loss: 0.3412 - val_mse: 0.0148\n",
            "Epoch 6/10\n",
            "118/118 - 0s - loss: 0.3447 - mse: 0.0151 - val_loss: 0.3251 - val_mse: 0.0141\n",
            "Epoch 7/10\n",
            "118/118 - 0s - loss: 0.3302 - mse: 0.0144 - val_loss: 0.3169 - val_mse: 0.0137\n",
            "Epoch 8/10\n",
            "118/118 - 0s - loss: 0.3204 - mse: 0.0140 - val_loss: 0.3082 - val_mse: 0.0133\n",
            "Epoch 9/10\n",
            "118/118 - 0s - loss: 0.3124 - mse: 0.0136 - val_loss: 0.3052 - val_mse: 0.0131\n",
            "Epoch 10/10\n",
            "118/118 - 0s - loss: 0.3061 - mse: 0.0133 - val_loss: 0.3009 - val_mse: 0.0129\n"
          ],
          "name": "stdout"
        },
        {
          "output_type": "display_data",
          "data": {
            "image/png": "[encoded data removed]",
            "text/plain": [
              "<Figure size 432x288 with 1 Axes>"
            ]
          },
          "metadata": {
            "tags": [],
            "needs_background": "light"
          }
        },
        {
          "output_type": "stream",
          "text": [
            "Baseline Error: 98.71\n",
            "Covergence time:  0.00208\n"
          ],
          "name": "stdout"
        }
      ]
    },
    {
      "cell_type": "code",
      "metadata": {
        "id": "K6JNF_QBfjPP"
      },
      "source": [
        ""
      ],
      "execution_count": null,
      "outputs": []
    }
  ]
}
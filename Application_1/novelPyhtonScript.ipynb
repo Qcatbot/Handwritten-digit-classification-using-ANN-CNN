{
  "nbformat": 4,
  "nbformat_minor": 0,
  "metadata": {
    "colab": {
      "name": "novelPyhtonScript.ipynb",
      "provenance": []
    },
    "kernelspec": {
      "name": "python3",
      "display_name": "Python 3"
    }
  },
  "cells": [
    {
      "cell_type": "code",
      "metadata": {
        "colab": {
          "base_uri": "https://localhost:8080/"
        },
        "id": "OBRIpN0xpWlb",
        "outputId": "dfee1b42-bc42-4587-f56d-d36b1671ccfe"
      },
      "source": [
        "from google.colab import drive\n",
        "drive.mount(\"/content/drive/\")"
      ],
      "execution_count": 1,
      "outputs": [
        {
          "output_type": "stream",
          "text": [
            "Mounted at /content/drive/\n"
          ],
          "name": "stdout"
        }
      ]
    },
    {
      "cell_type": "code",
      "metadata": {
        "id": "t2V5Yejopru4"
      },
      "source": [
        "import os\n",
        "from keras.datasets import mnist\n",
        "from keras.models import Sequential\n",
        "from keras.layers import Dense\n",
        "from keras.utils import np_utils\n",
        "from keras.layers import Dropout\n",
        "from keras.layers import Flatten\n",
        "from keras.layers.convolutional import Conv2D\n",
        "from keras.layers.convolutional import MaxPooling2D\n",
        "import timeit\n",
        "import sklearn.metrics as metrics\n",
        "import matplotlib\n",
        "import matplotlib.pyplot as plt\n",
        "import numpy as np"
      ],
      "execution_count": 2,
      "outputs": []
    },
    {
      "cell_type": "code",
      "metadata": {
        "id": "PjCvxkGtprxV"
      },
      "source": [
        "os.chdir(\"/content/drive/MyDrive/AI_VAR/LAB2/\")"
      ],
      "execution_count": 3,
      "outputs": []
    },
    {
      "cell_type": "code",
      "metadata": {
        "colab": {
          "base_uri": "https://localhost:8080/"
        },
        "id": "TRGkE55qt6MB",
        "outputId": "7a85dca3-1429-42a6-be7e-ac1027dfa6a9"
      },
      "source": [
        "!pwd"
      ],
      "execution_count": 4,
      "outputs": [
        {
          "output_type": "stream",
          "text": [
            "/content/drive/MyDrive/AI_VAR/LAB2\n"
          ],
          "name": "stdout"
        }
      ]
    },
    {
      "cell_type": "code",
      "metadata": {
        "colab": {
          "base_uri": "https://localhost:8080/"
        },
        "id": "-uH59QLFprz6",
        "outputId": "9c32baae-d60a-42ed-ada1-2ed732426c05"
      },
      "source": [
        "pip install keras"
      ],
      "execution_count": 5,
      "outputs": [
        {
          "output_type": "stream",
          "text": [
            "Requirement already satisfied: keras in /usr/local/lib/python3.6/dist-packages (2.4.3)\n",
            "Requirement already satisfied: pyyaml in /usr/local/lib/python3.6/dist-packages (from keras) (3.13)\n",
            "Requirement already satisfied: scipy>=0.14 in /usr/local/lib/python3.6/dist-packages (from keras) (1.4.1)\n",
            "Requirement already satisfied: numpy>=1.9.1 in /usr/local/lib/python3.6/dist-packages (from keras) (1.18.5)\n",
            "Requirement already satisfied: h5py in /usr/local/lib/python3.6/dist-packages (from keras) (2.10.0)\n",
            "Requirement already satisfied: six in /usr/local/lib/python3.6/dist-packages (from h5py->keras) (1.15.0)\n"
          ],
          "name": "stdout"
        }
      ]
    },
    {
      "cell_type": "code",
      "metadata": {
        "id": "H9LjqmDkpr2Y",
        "colab": {
          "base_uri": "https://localhost:8080/"
        },
        "outputId": "d7998029-5439-4b7f-cac8-25b39df5ab18"
      },
      "source": [
        "(X_train, Y_train), (X_test, Y_test) = mnist.load_data()"
      ],
      "execution_count": 6,
      "outputs": [
        {
          "output_type": "stream",
          "text": [
            "Downloading data from https://storage.googleapis.com/tensorflow/tf-keras-datasets/mnist.npz\n",
            "11493376/11490434 [==============================] - 0s 0us/step\n"
          ],
          "name": "stdout"
        }
      ]
    },
    {
      "cell_type": "code",
      "metadata": {
        "id": "51YD_7sopr41"
      },
      "source": [
        "def baseline_model(num_pixels, num_classes):\n",
        "\n",
        "    #Application 1 - Step 5 - Initialize the sequential model\n",
        "    model = Sequential()\n",
        "\n",
        "    #TODO - Application 1 - Step 5 - build a standard feed-forward network with one dense hidden layer(with 8 neurons) and one dense output layer\n",
        "    model.add(Dense(8, input_dim=num_pixels, kernel_initializer='normal', \n",
        "    activation='relu')) \n",
        "    model.add(Dense(num_classes, kernel_initializer='normal', \n",
        "    activation='softmax')) \n",
        "\n",
        "    #TODO - Application 1 - Step 6 - Compile the model\n",
        "    model.compile(loss='categorical_crossentropy', optimizer='adam', metrics=['mse']) \n",
        "\n",
        "    return model"
      ],
      "execution_count": 7,
      "outputs": []
    },
    {
      "cell_type": "code",
      "metadata": {
        "id": "AgYVuaMmqBu0"
      },
      "source": [
        "def load_fun(X_train, Y_train, X_test, Y_test):\n",
        "\n",
        "  #TODO - Application 1 - Step 2 - Transform the images to 1D vectors of floats (28x28 pixels  to  784 elements)\n",
        "  num_pixels = X_train.shape[1] * X_train.shape[2] \n",
        "  X_train = X_train.reshape((X_train.shape[0], num_pixels)).astype('float32') \n",
        "  X_test = X_test.reshape((X_test.shape[0], num_pixels)).astype('float32')\n",
        "\n",
        "  #TODO - Application 1 - Step 3 - Normalize the input values\n",
        "  X_train = X_train / 255 \n",
        "  X_test = X_test / 255 \n",
        "\n",
        "  #TODO - Application 1 - Step 4 - Transform the classes labels into a binary matrix\n",
        "  Y_train = np_utils.to_categorical(Y_train) \n",
        "  Y_test = np_utils.to_categorical(Y_test) \n",
        "  num_classes = Y_test.shape[1]  \n",
        "\n",
        "  model = baseline_model(num_pixels, num_classes)\n",
        "  \n",
        "  model.load_weights(\"my_model_weights.h5\")\n",
        "\n",
        "  Y_pred = model.predict(X_test)\n",
        "  Y_pred = np.argmax(Y_pred, axis=1)\n",
        "\n",
        "  return Y_pred"
      ],
      "execution_count": 8,
      "outputs": []
    },
    {
      "cell_type": "code",
      "metadata": {
        "id": "xIeuJBBeqBxg"
      },
      "source": [
        "Y_pred = load_fun(X_train, Y_train, X_test, Y_test)"
      ],
      "execution_count": 9,
      "outputs": []
    },
    {
      "cell_type": "code",
      "metadata": {
        "colab": {
          "base_uri": "https://localhost:8080/"
        },
        "id": "iOMw_SgOqB0J",
        "outputId": "f7844729-f15a-4dd4-a82b-aef720f134fe"
      },
      "source": [
        "print(\"Y_pred: \", Y_pred)\n",
        "print(\"Y_test: \", Y_test)"
      ],
      "execution_count": 10,
      "outputs": [
        {
          "output_type": "stream",
          "text": [
            "Y_pred:  [7 2 1 ... 4 5 6]\n",
            "Y_test:  [7 2 1 ... 4 5 6]\n"
          ],
          "name": "stdout"
        }
      ]
    },
    {
      "cell_type": "code",
      "metadata": {
        "colab": {
          "base_uri": "https://localhost:8080/",
          "height": 418
        },
        "id": "VubJz1M5zXz7",
        "outputId": "f7b661de-1898-4883-d603-242b08eb7651"
      },
      "source": [
        "%matplotlib inline \n",
        "fig=plt.figure(figsize=(8, 8))\n",
        "col = 3\n",
        "row = 2\n",
        "for i in range(1, col*row +1):\n",
        "    img = X_test[i-1]\n",
        "    fig.add_subplot(row, col, i)\n",
        "    plt.imshow(img)\n",
        "plt.show()"
      ],
      "execution_count": 11,
      "outputs": [
        {
          "output_type": "display_data",
          "data": {
            "image/png": "[encoded data removed]",
            "text/plain": [
              "<Figure size 576x576 with 6 Axes>"
            ]
          },
          "metadata": {
            "tags": [],
            "needs_background": "light"
          }
        }
      ]
    },
    {
      "cell_type": "code",
      "metadata": {
        "id": "SOh6yvwpzyOj"
      },
      "source": [
        "\n"
      ],
      "execution_count": 11,
      "outputs": []
    },
    {
      "cell_type": "code",
      "metadata": {
        "id": "a8s93gAX02wn"
      },
      "source": [
        ""
      ],
      "execution_count": 11,
      "outputs": []
    }
  ]
}